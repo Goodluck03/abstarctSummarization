{
  "nbformat": 4,
  "nbformat_minor": 0,
  "metadata": {
    "colab": {
      "provenance": []
    },
    "kernelspec": {
      "name": "python3",
      "display_name": "Python 3"
    },
    "language_info": {
      "name": "python"
    }
  },
  "cells": [
    {
      "cell_type": "code",
      "execution_count": null,
      "metadata": {
        "id": "9CxyfTvvbEip"
      },
      "outputs": [],
      "source": [
        "from sklearn.feature_extraction.text import TfidfVectorizer\n",
        "from spacy.lang.en import English\n",
        "import numpy as np"
      ]
    },
    {
      "cell_type": "code",
      "source": [
        "nlp = English() "
      ],
      "metadata": {
        "id": "ILrtZxi3beyi"
      },
      "execution_count": null,
      "outputs": []
    },
    {
      "cell_type": "code",
      "source": [
        "text_corpus = \"\"\"\n",
        "Google celebrated British illustrator and artist Sir John Tenniel's \n",
        "200th birth anniversary with a doodle on February 28. An acclaimed \n",
        "Victorian painter, Tenniel is celebrated for his illustrations for \n",
        "Lewis Carroll's Alice's Adventures in Wonderland and Through the Looking-Glass.\n",
        "Tenniel was born in Bayswater, West London in 1820. At the age of 20, Tenniel \n",
        "received a major eye injury and eventually, lost sight in his right eye. \n",
        "From a very early age, Tenniel was appreciated as a humorist and soon after, \n",
        "also cultured his talent for scholarly caricature.\n",
        "His first illustration was for Samuel Carter Hall's The Book of British \n",
        "Ballads in 1842. Eight years later, he joined the historic weekly magazine \n",
        "Punch as a political cartoonist. Lewis Carroll noticed Tenniel's distinct style \n",
        "of work and in 1864, approached the artist to illustrate his book, Alice's \n",
        "Adventures in Wonderland. This association marked Carroll and Tenniel's creative \n",
        "partnership and continued with Through the Looking Glass in 1872. \"The result: \n",
        "a series of classic characters, such as Alice and the Cheshire Cat, as depicted \n",
        "in the Doodle artwork's rendition of their iconic meeting-characters who, along \n",
        "with many others, remain beloved by readers of all ages to this day,\" the Google \n",
        "Doodle page says. After working with Lewis Carroll, Tenniel resumed his work with \n",
        "Punch. For his work, Tenniel also received a knighthood in 1893.\n",
        "Sir John Tenniel died on February 25, 1914. He was 93.\n",
        "\"\"\""
      ],
      "metadata": {
        "id": "R5ONXNrQb2JY"
      },
      "execution_count": null,
      "outputs": []
    },
    {
      "cell_type": "code",
      "source": [
        "nlp.add_pipe('sentencizer')"
      ],
      "metadata": {
        "colab": {
          "base_uri": "https://localhost:8080/"
        },
        "id": "Xm4-UDzocXei",
        "outputId": "23549e24-748a-4f6f-92e0-7b79bace7804"
      },
      "execution_count": null,
      "outputs": [
        {
          "output_type": "execute_result",
          "data": {
            "text/plain": [
              "<spacy.pipeline.sentencizer.Sentencizer at 0x7f0a477c1d80>"
            ]
          },
          "metadata": {},
          "execution_count": 4
        }
      ]
    },
    {
      "cell_type": "code",
      "source": [
        "doc = nlp(text_corpus.replace(\"\\n\", \"\"))\n",
        "sentences = [sent.text.strip() for sent in doc.sents]"
      ],
      "metadata": {
        "id": "44wqEdDvb2-U"
      },
      "execution_count": null,
      "outputs": []
    },
    {
      "cell_type": "code",
      "source": [
        "print(\"Senetence are: \\n\", sentences)"
      ],
      "metadata": {
        "colab": {
          "base_uri": "https://localhost:8080/"
        },
        "id": "JRwQflG4b6IQ",
        "outputId": "00b551d7-76db-4679-ba09-dac0b539bc51"
      },
      "execution_count": null,
      "outputs": [
        {
          "output_type": "stream",
          "name": "stdout",
          "text": [
            "Senetence are: \n",
            " [\"Google celebrated British illustrator and artist Sir John Tenniel's 200th birth anniversary with a doodle on February 28.\", \"An acclaimed Victorian painter, Tenniel is celebrated for his illustrations for Lewis Carroll's Alice's Adventures in Wonderland and Through the Looking-Glass.\", 'Tenniel was born in Bayswater, West London in 1820.', 'At the age of 20, Tenniel received a major eye injury and eventually, lost sight in his right eye.', 'From a very early age, Tenniel was appreciated as a humorist and soon after, also cultured his talent for scholarly caricature.', \"His first illustration was for Samuel Carter Hall's The Book of British Ballads in 1842.\", 'Eight years later, he joined the historic weekly magazine Punch as a political cartoonist.', \"Lewis Carroll noticed Tenniel's distinct style of work and in 1864, approached the artist to illustrate his book, Alice's Adventures in Wonderland.\", 'This association marked Carroll and Tenniel\\'s creative partnership and continued with Through the Looking Glass in 1872. \"', 'The result: a series of classic characters, such as Alice and the Cheshire Cat, as depicted in the Doodle artwork\\'s rendition of their iconic meeting-characters who, along with many others, remain beloved by readers of all ages to this day,\" the Google Doodle page says.', 'After working with Lewis Carroll, Tenniel resumed his work with Punch.', 'For his work, Tenniel also received a knighthood in 1893.Sir John Tenniel died on February 25, 1914.', 'He was 93.']\n"
          ]
        }
      ]
    },
    {
      "cell_type": "code",
      "source": [
        "sentence_organizer = {k:v for v,k in enumerate(sentences)}"
      ],
      "metadata": {
        "id": "BJi_-Mi_c7qF"
      },
      "execution_count": null,
      "outputs": []
    },
    {
      "cell_type": "code",
      "source": [
        "print(\"Our sentence organizer: \\n\", sentence_organizer)"
      ],
      "metadata": {
        "colab": {
          "base_uri": "https://localhost:8080/"
        },
        "id": "CZzVRX4edBQU",
        "outputId": "644cb879-f022-485b-edfa-2c2ef2310a61"
      },
      "execution_count": null,
      "outputs": [
        {
          "output_type": "stream",
          "name": "stdout",
          "text": [
            "Our sentence organizer: \n",
            " {\"Google celebrated British illustrator and artist Sir John Tenniel's 200th birth anniversary with a doodle on February 28.\": 0, \"An acclaimed Victorian painter, Tenniel is celebrated for his illustrations for Lewis Carroll's Alice's Adventures in Wonderland and Through the Looking-Glass.\": 1, 'Tenniel was born in Bayswater, West London in 1820.': 2, 'At the age of 20, Tenniel received a major eye injury and eventually, lost sight in his right eye.': 3, 'From a very early age, Tenniel was appreciated as a humorist and soon after, also cultured his talent for scholarly caricature.': 4, \"His first illustration was for Samuel Carter Hall's The Book of British Ballads in 1842.\": 5, 'Eight years later, he joined the historic weekly magazine Punch as a political cartoonist.': 6, \"Lewis Carroll noticed Tenniel's distinct style of work and in 1864, approached the artist to illustrate his book, Alice's Adventures in Wonderland.\": 7, 'This association marked Carroll and Tenniel\\'s creative partnership and continued with Through the Looking Glass in 1872. \"': 8, 'The result: a series of classic characters, such as Alice and the Cheshire Cat, as depicted in the Doodle artwork\\'s rendition of their iconic meeting-characters who, along with many others, remain beloved by readers of all ages to this day,\" the Google Doodle page says.': 9, 'After working with Lewis Carroll, Tenniel resumed his work with Punch.': 10, 'For his work, Tenniel also received a knighthood in 1893.Sir John Tenniel died on February 25, 1914.': 11, 'He was 93.': 12}\n"
          ]
        }
      ]
    },
    {
      "cell_type": "code",
      "source": [
        "tf_idf_vectorizer = TfidfVectorizer(min_df=2,  max_features=None, \n",
        "                                    strip_accents='unicode', \n",
        "                                    analyzer='word',\n",
        "                                    token_pattern=r'\\w{1,}',\n",
        "                                    ngram_range=(1, 3), \n",
        "                                    use_idf=1,smooth_idf=1,\n",
        "                                    sublinear_tf=1,\n",
        "                                    stop_words = 'english')"
      ],
      "metadata": {
        "id": "Ru_ooQV0dD9v"
      },
      "execution_count": null,
      "outputs": []
    },
    {
      "cell_type": "code",
      "source": [
        "tf_idf_vectorizer.fit(sentences)"
      ],
      "metadata": {
        "colab": {
          "base_uri": "https://localhost:8080/",
          "height": 164
        },
        "id": "cxzce7MzdHUM",
        "outputId": "309ff723-d0a3-4399-a53a-69e8080eab90"
      },
      "execution_count": null,
      "outputs": [
        {
          "output_type": "stream",
          "name": "stderr",
          "text": [
            "/usr/local/lib/python3.9/dist-packages/sklearn/utils/_param_validation.py:558: FutureWarning: Passing an int for a boolean parameter is deprecated in version 1.2 and won't be supported anymore in version 1.4.\n",
            "  warnings.warn(\n"
          ]
        },
        {
          "output_type": "execute_result",
          "data": {
            "text/plain": [
              "TfidfVectorizer(min_df=2, ngram_range=(1, 3), smooth_idf=1,\n",
              "                stop_words='english', strip_accents='unicode', sublinear_tf=1,\n",
              "                token_pattern='\\\\w{1,}', use_idf=1)"
            ],
            "text/html": [
              "<style>#sk-container-id-1 {color: black;background-color: white;}#sk-container-id-1 pre{padding: 0;}#sk-container-id-1 div.sk-toggleable {background-color: white;}#sk-container-id-1 label.sk-toggleable__label {cursor: pointer;display: block;width: 100%;margin-bottom: 0;padding: 0.3em;box-sizing: border-box;text-align: center;}#sk-container-id-1 label.sk-toggleable__label-arrow:before {content: \"▸\";float: left;margin-right: 0.25em;color: #696969;}#sk-container-id-1 label.sk-toggleable__label-arrow:hover:before {color: black;}#sk-container-id-1 div.sk-estimator:hover label.sk-toggleable__label-arrow:before {color: black;}#sk-container-id-1 div.sk-toggleable__content {max-height: 0;max-width: 0;overflow: hidden;text-align: left;background-color: #f0f8ff;}#sk-container-id-1 div.sk-toggleable__content pre {margin: 0.2em;color: black;border-radius: 0.25em;background-color: #f0f8ff;}#sk-container-id-1 input.sk-toggleable__control:checked~div.sk-toggleable__content {max-height: 200px;max-width: 100%;overflow: auto;}#sk-container-id-1 input.sk-toggleable__control:checked~label.sk-toggleable__label-arrow:before {content: \"▾\";}#sk-container-id-1 div.sk-estimator input.sk-toggleable__control:checked~label.sk-toggleable__label {background-color: #d4ebff;}#sk-container-id-1 div.sk-label input.sk-toggleable__control:checked~label.sk-toggleable__label {background-color: #d4ebff;}#sk-container-id-1 input.sk-hidden--visually {border: 0;clip: rect(1px 1px 1px 1px);clip: rect(1px, 1px, 1px, 1px);height: 1px;margin: -1px;overflow: hidden;padding: 0;position: absolute;width: 1px;}#sk-container-id-1 div.sk-estimator {font-family: monospace;background-color: #f0f8ff;border: 1px dotted black;border-radius: 0.25em;box-sizing: border-box;margin-bottom: 0.5em;}#sk-container-id-1 div.sk-estimator:hover {background-color: #d4ebff;}#sk-container-id-1 div.sk-parallel-item::after {content: \"\";width: 100%;border-bottom: 1px solid gray;flex-grow: 1;}#sk-container-id-1 div.sk-label:hover label.sk-toggleable__label {background-color: #d4ebff;}#sk-container-id-1 div.sk-serial::before {content: \"\";position: absolute;border-left: 1px solid gray;box-sizing: border-box;top: 0;bottom: 0;left: 50%;z-index: 0;}#sk-container-id-1 div.sk-serial {display: flex;flex-direction: column;align-items: center;background-color: white;padding-right: 0.2em;padding-left: 0.2em;position: relative;}#sk-container-id-1 div.sk-item {position: relative;z-index: 1;}#sk-container-id-1 div.sk-parallel {display: flex;align-items: stretch;justify-content: center;background-color: white;position: relative;}#sk-container-id-1 div.sk-item::before, #sk-container-id-1 div.sk-parallel-item::before {content: \"\";position: absolute;border-left: 1px solid gray;box-sizing: border-box;top: 0;bottom: 0;left: 50%;z-index: -1;}#sk-container-id-1 div.sk-parallel-item {display: flex;flex-direction: column;z-index: 1;position: relative;background-color: white;}#sk-container-id-1 div.sk-parallel-item:first-child::after {align-self: flex-end;width: 50%;}#sk-container-id-1 div.sk-parallel-item:last-child::after {align-self: flex-start;width: 50%;}#sk-container-id-1 div.sk-parallel-item:only-child::after {width: 0;}#sk-container-id-1 div.sk-dashed-wrapped {border: 1px dashed gray;margin: 0 0.4em 0.5em 0.4em;box-sizing: border-box;padding-bottom: 0.4em;background-color: white;}#sk-container-id-1 div.sk-label label {font-family: monospace;font-weight: bold;display: inline-block;line-height: 1.2em;}#sk-container-id-1 div.sk-label-container {text-align: center;}#sk-container-id-1 div.sk-container {/* jupyter's `normalize.less` sets `[hidden] { display: none; }` but bootstrap.min.css set `[hidden] { display: none !important; }` so we also need the `!important` here to be able to override the default hidden behavior on the sphinx rendered scikit-learn.org. See: https://github.com/scikit-learn/scikit-learn/issues/21755 */display: inline-block !important;position: relative;}#sk-container-id-1 div.sk-text-repr-fallback {display: none;}</style><div id=\"sk-container-id-1\" class=\"sk-top-container\"><div class=\"sk-text-repr-fallback\"><pre>TfidfVectorizer(min_df=2, ngram_range=(1, 3), smooth_idf=1,\n",
              "                stop_words=&#x27;english&#x27;, strip_accents=&#x27;unicode&#x27;, sublinear_tf=1,\n",
              "                token_pattern=&#x27;\\\\w{1,}&#x27;, use_idf=1)</pre><b>In a Jupyter environment, please rerun this cell to show the HTML representation or trust the notebook. <br />On GitHub, the HTML representation is unable to render, please try loading this page with nbviewer.org.</b></div><div class=\"sk-container\" hidden><div class=\"sk-item\"><div class=\"sk-estimator sk-toggleable\"><input class=\"sk-toggleable__control sk-hidden--visually\" id=\"sk-estimator-id-1\" type=\"checkbox\" checked><label for=\"sk-estimator-id-1\" class=\"sk-toggleable__label sk-toggleable__label-arrow\">TfidfVectorizer</label><div class=\"sk-toggleable__content\"><pre>TfidfVectorizer(min_df=2, ngram_range=(1, 3), smooth_idf=1,\n",
              "                stop_words=&#x27;english&#x27;, strip_accents=&#x27;unicode&#x27;, sublinear_tf=1,\n",
              "                token_pattern=&#x27;\\\\w{1,}&#x27;, use_idf=1)</pre></div></div></div></div></div>"
            ]
          },
          "metadata": {},
          "execution_count": 10
        }
      ]
    },
    {
      "cell_type": "code",
      "source": [
        "sentence_vectors = tf_idf_vectorizer.transform(sentences)"
      ],
      "metadata": {
        "id": "Jp3I-9w6dK0n"
      },
      "execution_count": null,
      "outputs": []
    },
    {
      "cell_type": "code",
      "source": [
        "# Getting sentence scores for each sentences\n",
        "sentence_scores = np.array(sentence_vectors.sum(axis=1)).ravel()\n",
        "\n",
        "# Sanity checkup\n",
        "print(len(sentences) == len(sentence_scores))"
      ],
      "metadata": {
        "colab": {
          "base_uri": "https://localhost:8080/"
        },
        "id": "7cvNKsoSdQQW",
        "outputId": "388df714-522e-4653-9b84-0dba1895fd58"
      },
      "execution_count": null,
      "outputs": [
        {
          "output_type": "stream",
          "name": "stdout",
          "text": [
            "True\n"
          ]
        }
      ]
    },
    {
      "cell_type": "code",
      "source": [
        "N = 5\n",
        "top_n_sentences = [sentences[ind] for ind in np.argsort(sentence_scores, axis=0)[::-1][:N]]\n"
      ],
      "metadata": {
        "id": "eR6nsJgddSMN"
      },
      "execution_count": null,
      "outputs": []
    },
    {
      "cell_type": "code",
      "source": [
        "# Let's now do the sentence ordering using our prebaked sentence_organizer\n",
        "# Let's map the scored sentences with their indexes\n",
        "mapped_top_n_sentences = [(sentence,sentence_organizer[sentence]) for sentence in top_n_sentences]\n",
        "print(\"Our top_n_sentence with their index: \\n\")\n",
        "for element in mapped_top_n_sentences:\n",
        "    print(element)\n",
        "\n",
        "# Ordering our top-n sentences in their original ordering\n",
        "mapped_top_n_sentences = sorted(mapped_top_n_sentences, key = lambda x: x[1])\n",
        "ordered_scored_sentences = [element[0] for element in mapped_top_n_sentences]\n",
        "\n",
        "# Our final summary\n",
        "summary = \" \".join(ordered_scored_sentences)"
      ],
      "metadata": {
        "colab": {
          "base_uri": "https://localhost:8080/"
        },
        "id": "UCJe1ePFdWDM",
        "outputId": "abc87a29-9441-460a-f3f6-a76ae258e6c0"
      },
      "execution_count": null,
      "outputs": [
        {
          "output_type": "stream",
          "name": "stdout",
          "text": [
            "Our top_n_sentence with their index: \n",
            "\n",
            "(\"An acclaimed Victorian painter, Tenniel is celebrated for his illustrations for Lewis Carroll's Alice's Adventures in Wonderland and Through the Looking-Glass.\", 1)\n",
            "(\"Lewis Carroll noticed Tenniel's distinct style of work and in 1864, approached the artist to illustrate his book, Alice's Adventures in Wonderland.\", 7)\n",
            "(\"Google celebrated British illustrator and artist Sir John Tenniel's 200th birth anniversary with a doodle on February 28.\", 0)\n",
            "('For his work, Tenniel also received a knighthood in 1893.Sir John Tenniel died on February 25, 1914.', 11)\n",
            "('This association marked Carroll and Tenniel\\'s creative partnership and continued with Through the Looking Glass in 1872. \"', 8)\n"
          ]
        }
      ]
    },
    {
      "cell_type": "code",
      "source": [
        "print(\"Summary: \\n\", summary)"
      ],
      "metadata": {
        "colab": {
          "base_uri": "https://localhost:8080/"
        },
        "id": "9LdiWshbdYaw",
        "outputId": "e5a33124-8bb2-439b-ffb6-8a50cd5ebf4a"
      },
      "execution_count": null,
      "outputs": [
        {
          "output_type": "stream",
          "name": "stdout",
          "text": [
            "Summary: \n",
            " Google celebrated British illustrator and artist Sir John Tenniel's 200th birth anniversary with a doodle on February 28. An acclaimed Victorian painter, Tenniel is celebrated for his illustrations for Lewis Carroll's Alice's Adventures in Wonderland and Through the Looking-Glass. Lewis Carroll noticed Tenniel's distinct style of work and in 1864, approached the artist to illustrate his book, Alice's Adventures in Wonderland. This association marked Carroll and Tenniel's creative partnership and continued with Through the Looking Glass in 1872. \" For his work, Tenniel also received a knighthood in 1893.Sir John Tenniel died on February 25, 1914.\n"
          ]
        }
      ]
    },
    {
      "cell_type": "code",
      "source": [
        "def summarizer(text, tokenizer, max_sent_in_summary=3):\n",
        "    # Create spacy document for further sentence level tokenization\n",
        "    doc = nlp(text_corpus.replace(\"\\n\", \"\"))\n",
        "    sentences = [sent.text.strip() for sent in doc.sents]\n",
        "    # Let's create an organizer which will store the sentence ordering to later reorganize the \n",
        "    # scored sentences in their correct order\n",
        "    sentence_organizer = {k:v for v,k in enumerate(sentences)}\n",
        "    # Let's now create a tf-idf (Term frequnecy Inverse Document Frequency) model\n",
        "    tf_idf_vectorizer = TfidfVectorizer(min_df=2,  max_features=None, \n",
        "                                        strip_accents='unicode', \n",
        "                                        analyzer='word',\n",
        "                                        token_pattern=r'\\w{1,}',\n",
        "                                        ngram_range=(1, 3), \n",
        "                                        use_idf=1,smooth_idf=1,\n",
        "                                        sublinear_tf=1,\n",
        "                                        stop_words = 'english')\n",
        "    # Passing our sentences treating each as one document to TF-IDF vectorizer\n",
        "    tf_idf_vectorizer.fit(sentences)\n",
        "    # Transforming our sentences to TF-IDF vectors\n",
        "    sentence_vectors = tf_idf_vectorizer.transform(sentences)\n",
        "    # Getting sentence scores for each sentences\n",
        "    sentence_scores = np.array(sentence_vectors.sum(axis=1)).ravel()\n",
        "    # Getting top-n sentences\n",
        "    N = max_sent_in_summary\n",
        "    top_n_sentences = [sentences[ind] for ind in np.argsort(sentence_scores, axis=0)[::-1][:N]]\n",
        "    # Let's now do the sentence ordering using our prebaked sentence_organizer\n",
        "    # Let's map the scored sentences with their indexes\n",
        "    mapped_top_n_sentences = [(sentence,sentence_organizer[sentence]) for sentence in top_n_sentences]\n",
        "    # Ordering our top-n sentences in their original ordering\n",
        "    mapped_top_n_sentences = sorted(mapped_top_n_sentences, key = lambda x: x[1])\n",
        "    ordered_scored_sentences = [element[0] for element in mapped_top_n_sentences]\n",
        "    # Our final summary\n",
        "    summary = \" \".join(ordered_scored_sentences)\n",
        "    return summary"
      ],
      "metadata": {
        "id": "vv2wbz78da_P"
      },
      "execution_count": null,
      "outputs": []
    },
    {
      "cell_type": "code",
      "source": [
        "print(\"Summarizer Result: \\n\", summarizer(text=text_corpus, tokenizer=nlp, max_sent_in_summary=3))\n"
      ],
      "metadata": {
        "colab": {
          "base_uri": "https://localhost:8080/"
        },
        "id": "AjnTiouSdplm",
        "outputId": "3035adf2-bd64-42d9-888c-88195b30c4e0"
      },
      "execution_count": null,
      "outputs": [
        {
          "output_type": "stream",
          "name": "stdout",
          "text": [
            "Summarizer Result: \n",
            " Google celebrated British illustrator and artist Sir John Tenniel's 200th birth anniversary with a doodle on February 28. An acclaimed Victorian painter, Tenniel is celebrated for his illustrations for Lewis Carroll's Alice's Adventures in Wonderland and Through the Looking-Glass. Lewis Carroll noticed Tenniel's distinct style of work and in 1864, approached the artist to illustrate his book, Alice's Adventures in Wonderland.\n"
          ]
        }
      ]
    },
    {
      "cell_type": "code",
      "source": [],
      "metadata": {
        "id": "hdtbeQrgdsn-"
      },
      "execution_count": null,
      "outputs": []
    }
  ]
}